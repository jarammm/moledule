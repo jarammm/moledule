{
  "nbformat": 4,
  "nbformat_minor": 0,
  "metadata": {
    "colab": {
      "provenance": [],
      "authorship_tag": "ABX9TyPzRlioWF81wz5EllfP4fqQ",
      "include_colab_link": true
    },
    "kernelspec": {
      "name": "python3",
      "display_name": "Python 3"
    },
    "language_info": {
      "name": "python"
    }
  },
  "cells": [
    {
      "cell_type": "markdown",
      "metadata": {
        "id": "view-in-github",
        "colab_type": "text"
      },
      "source": [
        "<a href=\"https://colab.research.google.com/github/jarammm/moledule/blob/main/molecule_custom_loss.ipynb\" target=\"_parent\"><img src=\"https://colab.research.google.com/assets/colab-badge.svg\" alt=\"Open In Colab\"/></a>"
      ]
    },
    {
      "cell_type": "code",
      "source": [
        "def pIC50_to_IC50(pic50_values):\n",
        "    \"\"\"Convert pIC50 values to IC50 (nM).\"\"\"\n",
        "    return 10 ** (9 - pic50_values)"
      ],
      "metadata": {
        "id": "rXQH4SXavlkt"
      },
      "execution_count": null,
      "outputs": []
    },
    {
      "cell_type": "markdown",
      "source": [
        "# torch version"
      ],
      "metadata": {
        "id": "ArWbZHaNt0NT"
      }
    },
    {
      "cell_type": "code",
      "execution_count": null,
      "metadata": {
        "id": "jqzQFSUItmFc"
      },
      "outputs": [],
      "source": [
        "import torch\n",
        "\n",
        "def normalized_rmse(y_true, y_pred):\n",
        "    y_true_ic50 = pIC50_to_IC50(y_true)\n",
        "    y_pred_ic50 = pIC50_to_IC50(y_pred)\n",
        "\n",
        "    rmse = torch.sqrt(torch.mean((y_true_ic50 - y_pred_ic50) ** 2))\n",
        "    range_ic50 = torch.max(y_true_ic50) - torch.min(y_true_ic50)\n",
        "    return rmse / range_ic50\n",
        "\n",
        "def correct_ratio(y_true, y_pred):\n",
        "    absolute_error = torch.abs(y_true - y_pred)\n",
        "    correct_predictions = torch.less_equal(absolute_error, 0.5)\n",
        "    return torch.mean(correct_predictions.float())\n",
        "\n",
        "def custom_score(y_true, y_pred):\n",
        "    A = normalized_rmse(y_true, y_pred)\n",
        "    B = correct_ratio(y_true, y_pred)\n",
        "    total_score = 0.5 * (1 - min(A.item(), 1.0)) + 0.5 * B.item()\n",
        "    return A, B, total_score"
      ]
    },
    {
      "cell_type": "markdown",
      "source": [
        "# numpy version"
      ],
      "metadata": {
        "id": "o8mxpnTBt2Ta"
      }
    },
    {
      "cell_type": "code",
      "source": [
        "import numpy as np\n",
        "\n",
        "def normalized_rmse(y_true, y_pred):\n",
        "    y_true_ic50 = pIC50_to_IC50(y_true)\n",
        "    y_pred_ic50 = pIC50_to_IC50(y_pred)\n",
        "\n",
        "    rmse = np.sqrt(np.mean((y_true_ic50 - y_pred_ic50) ** 2))\n",
        "    range_ic50 = np.max(y_true_ic50) - np.min(y_true_ic50)\n",
        "    return rmse / range_ic50\n",
        "\n",
        "def correct_ratio(y_true, y_pred):\n",
        "    absolute_error = np.abs(y_true - y_pred)\n",
        "    correct_predictions = np.less_equal(absolute_error, 0.5)\n",
        "    return np.mean(correct_predictions.astype(float))\n",
        "\n",
        "def custom_score(y_true, y_pred):\n",
        "    A = normalized_rmse(y_true, y_pred)\n",
        "    B = correct_ratio(y_true, y_pred)\n",
        "    total_score = 0.5 * (1 - min(A, 1.0)) + 0.5 * B\n",
        "    return A, B, total_score\n"
      ],
      "metadata": {
        "id": "FqhR-0kVtnVW"
      },
      "execution_count": null,
      "outputs": []
    }
  ]
}